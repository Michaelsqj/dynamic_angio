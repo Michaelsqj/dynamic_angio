{
 "cells": [
  {
   "cell_type": "markdown",
   "metadata": {},
   "source": [
    "Implementing an Autoencoder in PyTorch\n",
    "===\n",
    "\n",
    "This is the PyTorch equivalent of my previous article on implementing an autoencoder in TensorFlow 2.0, which you may read [here](https://towardsdatascience.com/implementing-an-autoencoder-in-tensorflow-2-0-5e86126e9f7)\n",
    "\n",
    "First, to install PyTorch, you may use the following pip command,\n",
    "\n",
    "```\n",
    "$ pip install torch torchvision\n",
    "```\n",
    "\n",
    "The `torchvision` package contains the image data sets that are ready for use in PyTorch.\n",
    "\n",
    "More details on its installation through [this guide](https://pytorch.org/get-started/locally/) from [pytorch.org](pytorch.org)."
   ]
  },
  {
   "cell_type": "markdown",
   "metadata": {},
   "source": [
    "## Setup\n",
    "\n",
    "We begin by importing our dependencies."
   ]
  },
  {
   "cell_type": "code",
   "execution_count": null,
   "metadata": {},
   "outputs": [],
   "source": [
    "import matplotlib.pyplot as plt\n",
    "import numpy as np\n",
    "\n",
    "import torch\n",
    "import torch.nn as nn\n",
    "import torch.optim as optim\n",
    "import torchvision\n",
    "\n",
    "import scipy"
   ]
  },
  {
   "cell_type": "markdown",
   "metadata": {},
   "source": [
    "## PCASL angio model\n",
    "\n",
    "Define functions relevant for the model"
   ]
  },
  {
   "cell_type": "code",
   "execution_count": null,
   "metadata": {},
   "outputs": [],
   "source": [
    "# Calculate the attenuation due to RF pulses in a CAPRIA-style acquisition.\n",
    "#\n",
    "# Tom Okell, June 2022\n",
    "#\n",
    "# R = CAPRIAAttenuation(t,t0,Alpha)\n",
    "#\n",
    "# where t is an array of timepoints separated by the TR, t0 is the start of\n",
    "# imaging and Alpha is an array of flip angles of size(t).\n",
    "\n",
    "def CAPRIAAttenuation(t,t0,Alpha):\n",
    "\n",
    "    # Initialise\n",
    "    R = np.zeros(shape=t.shape)\n",
    "    R[0] = 1.0; \n",
    "\n",
    "    # Calculate attenuation due to each previous RF pulse\n",
    "    for ii in range(1,len(t)):\n",
    "        if t[ii] > t0:\n",
    "            R[ii] = R[ii-1]*np.cos(np.deg2rad(Alpha[ii-1]))  # Attenuation\n",
    "        else:\n",
    "            R[ii] = 1.0\n",
    "\n",
    "    return R"
   ]
  },
  {
   "cell_type": "code",
   "execution_count": null,
   "metadata": {},
   "outputs": [],
   "source": [
    "# Test the attenuation function\n",
    "TR = 9.0 # ms\n",
    "N = 20\n",
    "t = np.linspace(0,N*TR,N+1)\n",
    "t0 = 2*TR\n",
    "Alpha = np.ones(shape=t.shape)*30\n",
    "R = CAPRIAAttenuation(t,t0,Alpha)\n",
    "\n",
    "plt.plot(t,R)"
   ]
  },
  {
   "cell_type": "code",
   "execution_count": null,
   "metadata": {},
   "outputs": [],
   "source": [
    "# Returns the gamma inc function but first zeros in the elements of X which\n",
    "# are negative\n",
    "def togammainc(X,A):\n",
    "    X[X<0] = 0.0\n",
    "    A[A<0] = 0.0\n",
    "\n",
    "    return scipy.special.gammainc(A,X)\n",
    "\n",
    "# This function calculates a theoretical intensities for a dynamic angio\n",
    "# voxel given the times, t, for a set of parameter values where tau is the\n",
    "# labelling duration in ms, T1 is that of blood, Alpha is the flip angle\n",
    "# (assuming spoiled GRE, in degs), TR is the repetition time, A is a scaling factor, delta_t is the\n",
    "# arrival time in ms from the labelling plane to the voxel, s is the\n",
    "# sharpness and p the time to peak of a gamma variate dispersion kernel.\n",
    "# It is assumed that all the blood sees all the RF pulses (relevant for 3D\n",
    "# acquisitions with the bottom edge of the FOV close to the labelling plane)\n",
    "\n",
    "def CAPRIAAngioSigAllRFAnalytic(t,tau,T1b,Alpha,delta_t,s,p,t0):\n",
    "    \n",
    "    # Define arrays for below\n",
    "    t = np.array(t)\n",
    "    a = np.array(1+p*s)\n",
    "    \n",
    "    # Calculate the RF attenuation term\n",
    "    R = CAPRIAAttenuation(t,t0,Alpha)\n",
    "  \n",
    "    # Calculate the modified parameters for the integral\n",
    "    sprime = s + 1.0/T1b\n",
    "  \n",
    "    # Calculate the scaling factor\n",
    "    SF = 2 * np.exp(-delta_t/T1b) * (s/sprime)**a\n",
    "  \n",
    "    # Calculate the incomplete gamma integrals    \n",
    "    G = togammainc(sprime*(t-delta_t),a) - togammainc(sprime*(t-delta_t-tau),a)\n",
    "    #print('G:',G)\n",
    "    \n",
    "    # Calculate a scaling for the excitation\n",
    "    E = np.sin(np.deg2rad(Alpha))\n",
    "    \n",
    "    # Output the complete result\n",
    "    S = SF * R * G * E\n",
    "    \n",
    "    #print('S:',S.shape)\n",
    "        \n",
    "    return S"
   ]
  },
  {
   "cell_type": "code",
   "execution_count": null,
   "metadata": {},
   "outputs": [],
   "source": [
    "# Test Angio signal\n",
    "TR = 9.0e-3 # ms\n",
    "T = 2016.0e-3 \n",
    "N = int(np.round(T/TR))\n",
    "t = np.linspace(TR,T,N)\n",
    "Alpha = np.ones(shape=t.shape)*6\n",
    "tau = 1.8\n",
    "t0 = tau\n",
    "T1b = 1.65\n",
    "delta_t = 0.7\n",
    "s = 5\n",
    "p = 100e-3\n",
    "\n",
    "S = CAPRIAAngioSigAllRFAnalytic(t,tau,T1b,Alpha,delta_t,s,p,t0)\n",
    "\n",
    "plt.plot(t,S)"
   ]
  },
  {
   "cell_type": "markdown",
   "metadata": {},
   "source": [
    "## Define a flip angle schedule function\n"
   ]
  },
  {
   "cell_type": "code",
   "execution_count": null,
   "metadata": {},
   "outputs": [],
   "source": [
    "# Calculate flip angle schedules for CAPRIA acquisitions\n",
    "# \n",
    "# Tom Okell, June 2022\n",
    "#\n",
    "# Usage:\n",
    "#   Alpha = CalcCAPRIAFAs(FAMode,FAParams,t,t0)\n",
    "#\n",
    "# Required inputs:\n",
    "#   FAMode      = 'CFA', 'Quadratic' or 'Maintain'\n",
    "#   FAParams    = For CFA:          a scalar that defines the constant\n",
    "#                                   flip angle in degrees.\n",
    "#                 For Quadratic:    the flip angle varies quadratically\n",
    "#                                   between FAParams(1) and FAParams(2) in\n",
    "#                                   degrees.\n",
    "#                 For Maintain:     Uses a backwards recursive formula to\n",
    "#                                   maintain the signal at a constant level\n",
    "#                                   (i.e. magnetisation loss in the\n",
    "#                                   previous TR is counteracted by a higher\n",
    "#                                   flip angle in the next TR). In this\n",
    "#                                   case FAParams(1) defines the final flip\n",
    "#                                   angle at the end of the readout.\n",
    "#   t           = the time array to be simulated in s (assumes separation by TR)\n",
    "#   t0          = the time at which imaging commences (s)\n",
    "\n",
    "def CalcCAPRIAFAs(FAMode,FAParams,t,t0):\n",
    "\n",
    "    # Initialise\n",
    "    Alpha = np.zeros(t.shape)\n",
    "    Idx = (t >=  t0)\n",
    "    N = sum(Idx); # Number of pulses played out\n",
    "\n",
    "    # CFA (FAParams = FA)\n",
    "    if FAMode.upper() == 'CFA':\n",
    "        Alpha[Idx] = FAParams[0] \n",
    "\n",
    "    # VFA quadratic (FAParams = [FAMin FAMax])\n",
    "    elif FAMode.upper() == 'QUADRATIC':    \n",
    "        Alpha[Idx] = FAParams[0] + (FAParams[1]-FAParams[0])*(range(N)/(N-1))**2;   \n",
    "\n",
    "    # VFA Maintain (FAParams = FAMax)\n",
    "    elif FAMode.upper() == 'MAINTAIN':\n",
    "        raise Exception('Maintain not yet implemented')\n",
    "\n",
    "    # Unknown\n",
    "    else:\n",
    "        raise Exception('Unknown FAMode!')\n",
    "\n",
    "\n",
    "    return Alpha\n",
    "\n",
    "# Test\n",
    "FAMode = 'Quadratic'\n",
    "FAParams = [2,9]\n",
    "TR = 9.0e-3 # ms\n",
    "T = 2016.0e-3 \n",
    "t0 = tau\n",
    "N = int(np.round((T-t0)/TR))\n",
    "t = np.linspace(t0,T,N)\n",
    "\n",
    "Alpha = CalcCAPRIAFAs(FAMode,FAParams,t,t0)\n",
    "\n",
    "plt.plot(t,Alpha)"
   ]
  },
  {
   "cell_type": "markdown",
   "metadata": {},
   "source": [
    "## Dataset\n",
    "\n",
    "Run the model for a range of physiological parameters"
   ]
  },
  {
   "cell_type": "code",
   "execution_count": null,
   "metadata": {},
   "outputs": [],
   "source": [
    "# Set sequence parameters\n",
    "TR = 9.0e-3 # ms\n",
    "T = 2016.0e-3 \n",
    "tau = 1.8\n",
    "T1b = 1.65\n",
    "t0 = tau\n",
    "N = int(np.round(T/TR))\n",
    "t = np.linspace(t0,t0+T,N)\n",
    "FAMode = 'Quadratic'\n",
    "FAParams = [2,9]\n",
    "Alpha = CalcCAPRIAFAs(FAMode,FAParams,t,t0)\n",
    "#plt.plot(t,Alpha)\n",
    "#plt.plot(t,CAPRIAAttenuation(t,t0,Alpha))\n",
    "\n",
    "# Physio params\n",
    "delta_ts = np.linspace(0.1,1.8,30)\n",
    "ss = np.linspace(1,100,30)\n",
    "ps = np.linspace(1e-3,500e-3,30)\n",
    "\n",
    "# Initialise output\n",
    "S = np.zeros((len(delta_ts)*len(ss)*len(ps),len(t)))\n",
    "\n",
    "# Loop through the parameters\n",
    "ii = 0\n",
    "for delta_t in delta_ts:\n",
    "    for s in ss:\n",
    "        for p in ps:\n",
    "            S[ii,:] = CAPRIAAngioSigAllRFAnalytic(t,tau,T1b,Alpha,delta_t,s,p,t0)\n",
    "            plt.plot(t,S[ii,:])\n",
    "            ii = ii + 1"
   ]
  },
  {
   "cell_type": "markdown",
   "metadata": {},
   "source": [
    "# Define the dataset class"
   ]
  },
  {
   "cell_type": "code",
   "execution_count": null,
   "metadata": {},
   "outputs": [],
   "source": [
    "# Borrowed from DL workshop code\n",
    "from torch.utils.data import Dataset\n",
    "class numpy_dataset(Dataset):  # Inherit from Dataset class\n",
    "    def __init__(self, data, target, transform=None):\n",
    "        self.data = torch.from_numpy(data).float()\n",
    "        self.target = torch.from_numpy(target).float()\n",
    "        self.transform = transform # This is where you can add augmentations\n",
    "\n",
    "    def __getitem__(self, index):\n",
    "        x = self.data[index]\n",
    "        y = self.target[index]\n",
    "\n",
    "        if self.transform:\n",
    "            x = self.transform(x)\n",
    "\n",
    "        return x, y\n",
    "\n",
    "    def __len__(self):\n",
    "        return len(self.data)"
   ]
  },
  {
   "cell_type": "markdown",
   "metadata": {},
   "source": [
    "# Define the dataset and data loader"
   ]
  },
  {
   "cell_type": "code",
   "execution_count": null,
   "metadata": {},
   "outputs": [],
   "source": [
    "batch_size = 1000\n",
    "\n",
    "transform = torchvision.transforms.Compose([torchvision.transforms.ToTensor()])\n",
    "\n",
    "train_dataset = numpy_dataset(S,S)\n",
    "\n",
    "train_loader = torch.utils.data.DataLoader(\n",
    "    train_dataset, batch_size=batch_size, shuffle=True\n",
    ")"
   ]
  },
  {
   "cell_type": "markdown",
   "metadata": {},
   "source": [
    "## Autoencoder\n",
    "\n",
    "Define an autoencoder class with fully connected layers and one intermediate layer for both its encoder and decoder components."
   ]
  },
  {
   "cell_type": "code",
   "execution_count": null,
   "metadata": {},
   "outputs": [],
   "source": [
    "class AE(nn.Module):\n",
    "    def __init__(self, **kwargs):\n",
    "        super().__init__()\n",
    "        \n",
    "        # Encoder: input -> intermediate\n",
    "        print('Creating encoder_hidden_layer with in_features=',kwargs[\"input_shape\"],',out_features=',kwargs[\"intermediate_features\"])\n",
    "        self.encoder_hidden_layer = nn.Linear(\n",
    "            in_features=kwargs[\"input_shape\"], out_features=kwargs[\"intermediate_features\"]\n",
    "        )\n",
    "\n",
    "        print('Creating encoder_hidden_layer2 with in_features=',kwargs[\"intermediate_features\"],',out_features=',kwargs[\"latent_features\"])\n",
    "        self.encoder_hidden_layer2 = nn.Linear(\n",
    "            in_features=kwargs[\"intermediate_features\"], out_features=kwargs[\"latent_features\"]\n",
    "        )\n",
    "\n",
    "        print('Creating encoder_output_layer with in_features=',kwargs[\"latent_features\"],', out_features=',kwargs[\"latent_features\"])\n",
    "        self.encoder_output_layer = nn.Linear(\n",
    "            in_features=kwargs[\"latent_features\"], out_features=kwargs[\"latent_features\"]\n",
    "        )\n",
    "        \n",
    "        # Decoder\n",
    "        print('Creating decoder_hidden_layer with in_features=',kwargs[\"latent_features\"],', out_features=',kwargs[\"latent_features\"])        \n",
    "        self.decoder_hidden_layer = nn.Linear(\n",
    "            in_features=kwargs[\"latent_features\"], out_features=kwargs[\"latent_features\"]\n",
    "        )\n",
    "\n",
    "        print('Creating decoder_hidden_layer2 with in_features=',kwargs[\"latent_features\"],', out_features=',kwargs[\"intermediate_features\"])        \n",
    "        self.decoder_hidden_layer2 = nn.Linear(\n",
    "            in_features=kwargs[\"latent_features\"], out_features=kwargs[\"intermediate_features\"]\n",
    "        )\n",
    "        \n",
    "        print('Creating decoder_output_layer with in_features=',kwargs[\"intermediate_features\"],',out_features=',kwargs[\"input_shape\"])        \n",
    "        self.decoder_output_layer = nn.Linear(\n",
    "            in_features=kwargs[\"intermediate_features\"], out_features=kwargs[\"input_shape\"]\n",
    "        )\n",
    "\n",
    "    def forward(self, features):\n",
    "        # Encoder\n",
    "        activation = self.encoder_hidden_layer(features)\n",
    "        activation = torch.relu(activation)\n",
    "        activation = self.encoder_hidden_layer2(activation)\n",
    "        activation = torch.relu(activation)\n",
    "        code = self.encoder_output_layer(activation)\n",
    "        code = torch.sigmoid(code)\n",
    "        \n",
    "        # Decoder\n",
    "        activation = self.decoder_hidden_layer(code)\n",
    "        activation = torch.relu(activation)\n",
    "        activation = self.decoder_hidden_layer2(activation)\n",
    "        activation = torch.relu(activation)\n",
    "        activation = self.decoder_output_layer(activation)\n",
    "        reconstructed = torch.sigmoid(activation)\n",
    "        return reconstructed"
   ]
  },
  {
   "cell_type": "markdown",
   "metadata": {},
   "source": [
    "## Set up training parameters\n",
    "\n",
    "Set our seed and other configurations for reproducibility. We set the batch size, the number of training epochs, and the learning rate."
   ]
  },
  {
   "cell_type": "code",
   "execution_count": null,
   "metadata": {},
   "outputs": [],
   "source": [
    "epochs = 1000\n",
    "learning_rate = 5e-3"
   ]
  },
  {
   "cell_type": "code",
   "execution_count": null,
   "metadata": {},
   "outputs": [],
   "source": [
    "seed = 42\n",
    "torch.manual_seed(seed)\n",
    "torch.backends.cudnn.benchmark = False\n",
    "torch.backends.cudnn.deterministic = True"
   ]
  },
  {
   "cell_type": "markdown",
   "metadata": {},
   "source": [
    "Before using our defined autoencoder class, we have the following things to do:\n",
    "    1. We configure which device we want to run on.\n",
    "    2. We instantiate an `AE` object.\n",
    "    3. We define our optimizer.\n",
    "    4. We define our reconstruction loss."
   ]
  },
  {
   "cell_type": "code",
   "execution_count": null,
   "metadata": {},
   "outputs": [],
   "source": [
    "#  use gpu if available\n",
    "device = torch.device(\"cuda\" if torch.cuda.is_available() else \"cpu\")\n",
    "\n",
    "# create a model from `AE` autoencoder class\n",
    "# load it to the specified device, either gpu or cpu\n",
    "model = AE(input_shape=S.shape[1],intermediate_features=round((S.shape[1]+10)/2),latent_features=4).to(device)\n",
    "\n",
    "# create an optimizer object\n",
    "# Adam optimizer\n",
    "optimizer = optim.Adam(model.parameters(), lr=learning_rate)\n",
    "\n",
    "# mean-squared error loss\n",
    "criterion = nn.MSELoss()"
   ]
  },
  {
   "cell_type": "markdown",
   "metadata": {},
   "source": [
    "We train our autoencoder for our specified number of epochs."
   ]
  },
  {
   "cell_type": "code",
   "execution_count": null,
   "metadata": {},
   "outputs": [],
   "source": [
    "for epoch in range(epochs):\n",
    "    loss = 0\n",
    "    for batch_features, _ in train_loader:\n",
    "        # reshape mini-batch data to [N, S.shape[1]] matrix\n",
    "        # load it to the active device\n",
    "        batch_features = batch_features.view(-1, S.shape[1]).to(device)\n",
    "        \n",
    "        # reset the gradients back to zero\n",
    "        # PyTorch accumulates gradients on subsequent backward passes\n",
    "        optimizer.zero_grad()\n",
    "        \n",
    "        # compute reconstructions\n",
    "        outputs = model(batch_features)\n",
    "        \n",
    "        # compute training reconstruction loss\n",
    "        train_loss = criterion(outputs, batch_features)\n",
    "        \n",
    "        # compute accumulated gradients\n",
    "        train_loss.backward()\n",
    "        \n",
    "        # perform parameter update based on current gradients\n",
    "        optimizer.step()\n",
    "        \n",
    "        # add the mini-batch training loss to epoch loss\n",
    "        loss += train_loss.item()\n",
    "    \n",
    "    # compute the epoch training loss\n",
    "    loss = loss / len(train_loader)\n",
    "    \n",
    "    # display the epoch training loss\n",
    "    print(\"epoch : {}/{}, recon loss = {:.8f}\".format(epoch + 1, epochs, loss))"
   ]
  },
  {
   "cell_type": "markdown",
   "metadata": {},
   "source": [
    "Let's extract some test examples to reconstruct using our trained autoencoder."
   ]
  },
  {
   "cell_type": "code",
   "execution_count": null,
   "metadata": {},
   "outputs": [],
   "source": [
    "test_dataset = numpy_dataset(S,S)\n",
    "\n",
    "test_loader = torch.utils.data.DataLoader(\n",
    "    test_dataset, batch_size=10, shuffle=True\n",
    ")\n",
    "\n",
    "test_examples = None\n",
    "\n",
    "with torch.no_grad():\n",
    "    for batch_features in test_loader:\n",
    "        batch_features = batch_features[0]\n",
    "        test_examples = batch_features.view(-1, S.shape[1])\n",
    "        reconstruction = model(test_examples)\n",
    "        break"
   ]
  },
  {
   "cell_type": "markdown",
   "metadata": {},
   "source": [
    "## Visualize Results\n",
    "\n",
    "Let's try to reconstruct some examples using our trained autoencoder."
   ]
  },
  {
   "cell_type": "code",
   "execution_count": null,
   "metadata": {},
   "outputs": [],
   "source": [
    "with torch.no_grad():\n",
    "    number = 10\n",
    "    plt.figure(figsize=(20, 4))\n",
    "    for index in range(number):\n",
    "        # display original\n",
    "        ax = plt.subplot(2, number, index + 1)\n",
    "        plt.plot(t,test_examples[index].numpy().reshape(S.shape[1]))\n",
    "\n",
    "        # display reconstruction\n",
    "        ax = plt.subplot(2, number, index + 1 + number)\n",
    "        plt.plot(t,reconstruction[index].numpy().reshape(S.shape[1]))\n",
    "\n",
    "    plt.show()"
   ]
  },
  {
   "cell_type": "code",
   "execution_count": null,
   "metadata": {},
   "outputs": [],
   "source": []
  }
 ],
 "metadata": {
  "kernelspec": {
   "display_name": "Python 3 (ipykernel)",
   "language": "python",
   "name": "python3"
  },
  "language_info": {
   "codemirror_mode": {
    "name": "ipython",
    "version": 3
   },
   "file_extension": ".py",
   "mimetype": "text/x-python",
   "name": "python",
   "nbconvert_exporter": "python",
   "pygments_lexer": "ipython3",
   "version": "3.10.9"
  }
 },
 "nbformat": 4,
 "nbformat_minor": 2
}
